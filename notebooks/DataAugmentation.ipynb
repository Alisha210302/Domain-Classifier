{
  "cells": [
    {
      "cell_type": "code",
      "execution_count": null,
      "metadata": {
        "colab": {
          "base_uri": "https://localhost:8080/"
        },
        "id": "nhXFKW0mFKF5",
        "outputId": "951ae71b-8167-410f-b514-9628f6e5fad2"
      },
      "outputs": [],
      "source": [
        "!pip install transformers==4.31.0"
      ]
    },
    {
      "cell_type": "code",
      "execution_count": null,
      "metadata": {
        "id": "2PR7avadCd1p"
      },
      "outputs": [],
      "source": [
        "import csv\n",
        "import random\n",
        "from transformers import AutoTokenizer, AutoModelForSeq2SeqLM\n",
        "\n",
        "# Example domains and sub-domains\n",
        "domains = {\n",
        "    \"Technology\": [\"AI\", \"Cloud Computing\", \"Cybersecurity\", \"IoT\", \"Blockchain\"],\n",
        "    \"Finance\": [\"Investments\", \"Banking\", \"Insurance\", \"Cryptocurrency\", \"Fintech\"],\n",
        "    \"Healthcare\": [\"Surgery\", \"Pharmaceuticals\", \"Mental Health\", \"Diagnostics\", \"Telemedicine\"],\n",
        "    \"Education\": [\"E-learning\", \"Traditional Schooling\", \"Edtech\", \"Research\", \"MOOCs\"],\n",
        "    \"Entertainment\": [\"Movies\", \"Music\", \"Gaming\", \"Theatre\", \"Streaming\"],\n",
        "}\n",
        "\n",
        "tokenizer = AutoTokenizer.from_pretrained(\"google/flan-t5-base\")\n",
        "model = AutoModelForSeq2SeqLM.from_pretrained(\"google/flan-t5-base\")\n",
        "\n",
        "def generate_description(domain, sub_domain):\n",
        "    prompt = f\"Write a detailed 1000-word description about the {sub_domain} in the {domain} domain.\"\n",
        "    try:\n",
        "        inputs = tokenizer(prompt, return_tensors=\"pt\")\n",
        "        outputs = model.generate(**inputs, max_length=2000)  # Adjust max_length as needed\n",
        "        description = tokenizer.decode(outputs[0], skip_special_tokens=True)\n",
        "        return description\n",
        "    except Exception as e:\n",
        "        print(f\"Error generating description: {e}\")\n",
        "        return None\n",
        "\n",
        "\n",
        "# Create the dataset\n",
        "def generate_dataset(file_name, rows=10000):\n",
        "    with open(file_name, mode=\"w\", newline=\"\", encoding=\"utf-8\") as file:\n",
        "        writer = csv.writer(file)\n",
        "        writer.writerow([\"description\", \"domain\", \"sub_domain\"])  # Write header\n",
        "\n",
        "        for _ in range(rows):\n",
        "            # Randomly select domain and sub-domain\n",
        "            domain = random.choice(list(domains.keys()))\n",
        "            sub_domain = random.choice(domains[domain])\n",
        "\n",
        "            # Generate description\n",
        "            description = generate_description(domain, sub_domain)\n",
        "\n",
        "            # Write row\n",
        "            writer.writerow([description, domain, sub_domain])\n",
        "\n",
        "    print(f\"Dataset with {rows} rows created: {file_name}\")\n",
        "\n",
        "# Generate dataset\n",
        "# generate_dataset(\"domain_classifier_dataset.csv\", rows=10)\n"
      ]
    },
    {
      "cell_type": "code",
      "execution_count": null,
      "metadata": {
        "id": "fH5KIgrrHoCF"
      },
      "outputs": [],
      "source": [
        "generate_dataset(\"../Dataset/raw data/domain_classifier_augmented_dataset.csv\", rows=100)"
      ]
    },
    {
      "cell_type": "code",
      "execution_count": null,
      "metadata": {
        "id": "pxn5jJZx26Me"
      },
      "outputs": [],
      "source": []
    }
  ],
  "metadata": {
    "colab": {
      "provenance": []
    },
    "kernelspec": {
      "display_name": "Python 3",
      "name": "python3"
    },
    "language_info": {
      "codemirror_mode": {
        "name": "ipython",
        "version": 3
      },
      "file_extension": ".py",
      "mimetype": "text/x-python",
      "name": "python",
      "nbconvert_exporter": "python",
      "pygments_lexer": "ipython3",
      "version": "3.12.4"
    }
  },
  "nbformat": 4,
  "nbformat_minor": 0
}
